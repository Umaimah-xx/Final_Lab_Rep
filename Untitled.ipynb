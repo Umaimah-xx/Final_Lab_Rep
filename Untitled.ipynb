{
 "cells": [
  {
   "cell_type": "markdown",
   "id": "d90067f9",
   "metadata": {},
   "source": [
    "# #STATISTICAL DATA ANALYSIS ON FITS:"
   ]
  },
  {
   "cell_type": "code",
   "execution_count": 3,
   "id": "85b5077c",
   "metadata": {},
   "outputs": [
    {
     "name": "stdout",
     "output_type": "stream",
     "text": [
      "Statistics for Red Channel:\n",
      "Mean: 7820.16\n",
      "Median: 6983.00\n",
      "Mode: 6024.0\n",
      "\n",
      "Standard Deviation: 3159.48\n",
      "\n",
      "Statistics for NIR Channel:\n",
      "Mean: 6785.70\n",
      "Median: 5648.00\n",
      "Mode: 5292.0\n",
      "\n",
      "Standard Deviation: 3551.89\n",
      "\n",
      "Statistics for Blue Channel:\n",
      "Mean: 15581.98\n",
      "Median: 14817.00\n",
      "Mode: 11705.0\n",
      "\n",
      "Standard Deviation: 3778.28\n",
      "\n"
     ]
    }
   ],
   "source": [
    "import numpy as np\n",
    "from astropy.io import fits\n",
    "\n",
    "def compute_statistics(data, channel_name):\n",
    "    mean_value = np.mean(data)\n",
    "    median_value = np.median(data)\n",
    "\n",
    "    mode_data = np.round(data).astype(int)\n",
    "    mode_data = mode_data[mode_data >= 0]  \n",
    "    \n",
    "    if mode_data.size > 0:\n",
    "        mode_value = float(np.argmax(np.bincount(mode_data.ravel())))\n",
    "    else:\n",
    "        mode_value = None\n",
    "    \n",
    "    std_deviation = np.std(data)  # Calculate standard deviation\n",
    "    \n",
    "    print(f\"Statistics for {channel_name} Channel:\")\n",
    "    print(f\"Mean: {mean_value:.2f}\")\n",
    "    print(f\"Median: {median_value:.2f}\")\n",
    "    print(f\"Mode: {mode_value}\\n\")\n",
    "    print(f\"Standard Deviation: {std_deviation:.2f}\\n\")\n",
    "hdulist_red = fits.open('C:\\\\Users\\\\hp\\\\DIP\\\\NGC3031_DSS2_Red.fits')\n",
    "hdulist_green = fits.open('C:\\\\Users\\\\hp\\\\DIP\\\\NGC3031_DSS2_NIR.fits')\n",
    "hdulist_blue = fits.open('C:\\\\Users\\\\hp\\\\DIP\\\\NGC3031_DSS2_Blue.fits')\n",
    "data_red = hdulist_red[0].data\n",
    "data_nir = hdulist_green[0].data\n",
    "data_blue = hdulist_blue[0].data\n",
    "hdulist_red.close()\n",
    "hdulist_green.close()\n",
    "hdulist_blue.close()\n",
    "compute_statistics(data_red, 'Red')\n",
    "compute_statistics(data_nir, 'NIR')\n",
    "compute_statistics(data_blue, 'Blue')"
   ]
  },
  {
   "cell_type": "code",
   "execution_count": null,
   "id": "c0e21148",
   "metadata": {},
   "outputs": [],
   "source": []
  }
 ],
 "metadata": {
  "kernelspec": {
   "display_name": "Python 3 (ipykernel)",
   "language": "python",
   "name": "python3"
  },
  "language_info": {
   "codemirror_mode": {
    "name": "ipython",
    "version": 3
   },
   "file_extension": ".py",
   "mimetype": "text/x-python",
   "name": "python",
   "nbconvert_exporter": "python",
   "pygments_lexer": "ipython3",
   "version": "3.10.9"
  }
 },
 "nbformat": 4,
 "nbformat_minor": 5
}
